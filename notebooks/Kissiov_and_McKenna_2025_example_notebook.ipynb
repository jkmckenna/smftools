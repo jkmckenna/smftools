{
 "cells": [
  {
   "cell_type": "code",
   "execution_count": null,
   "metadata": {},
   "outputs": [],
   "source": [
    "import anndata as ad\n",
    "import pandas as pd\n",
    "import numpy as np\n",
    "import matplotlib.pyplot as plt\n",
    "import smftools as smf\n",
    "import os"
   ]
  },
  {
   "cell_type": "code",
   "execution_count": null,
   "metadata": {},
   "outputs": [],
   "source": [
    "# Define file paths\n",
    "adata_path = '/Path_to_input_adata.h5ad.gz'\n",
    "output_directory = '/Path_to_output_directory'\n",
    "output_adata = 'analyzed_adata.h5ad.gz'\n",
    "final_output = os.path.join(output_directory, output_adata)\n",
    "\n",
    "# Load adata\n",
    "adata = ad.read_h5ad(adata_path)\n",
    "adata.obs_names_make_unique()"
   ]
  },
  {
   "cell_type": "code",
   "execution_count": null,
   "metadata": {},
   "outputs": [],
   "source": [
    "# Define path to sample sheet and run first part of preprocessing.\n",
    "sample_sheet_path = '/path_to_sample_sheet.csv'\n",
    "variables = smf.pp.recipe_1_Kissiov_and_McKenna_2025(adata, sample_sheet_path, output_directory)\n",
    "# Update global variables\n",
    "globals().update(variables)"
   ]
  },
  {
   "cell_type": "code",
   "execution_count": null,
   "metadata": {},
   "outputs": [],
   "source": [
    "# Filter adata based on defined read length statistics, using the plots from preprocessing part 1 to direct the input parameters here.\n",
    "smf.pp.filter_reads_on_length(adata, filter_on_coordinates=[lower_bound, upper_bound], min_read_length=2700)"
   ]
  },
  {
   "cell_type": "code",
   "execution_count": null,
   "metadata": {},
   "outputs": [],
   "source": [
    "# Filter adata on defined read methylation statistics\n",
    "smf.pp.filter_converted_reads_on_methylation(adata, valid_SMF_site_threshold=0.8, min_SMF_threshold=0.025)"
   ]
  },
  {
   "cell_type": "code",
   "execution_count": null,
   "metadata": {},
   "outputs": [],
   "source": [
    "# Run second part of preprocessing\n",
    "duplicates = smf.pp.recipe_2_Kissiov_and_McKenna_2025(adata, output_directory, binary_layers)"
   ]
  }
 ],
 "metadata": {
  "language_info": {
   "name": "python"
  }
 },
 "nbformat": 4,
 "nbformat_minor": 2
}
